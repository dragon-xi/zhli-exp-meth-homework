{
 "cells": [
  {
   "cell_type": "markdown",
   "metadata": {},
   "source": [
    "# 求飞行时间法测中子能量的相对误差公式 $R(E)=\\frac{\\delta E}{E}$"
   ]
  },
  {
   "cell_type": "markdown",
   "metadata": {},
   "source": [
    "## 预备知识"
   ]
  },
  {
   "cell_type": "markdown",
   "metadata": {},
   "source": [
    "- 现有一个物理观测量$x$，其平均值为$\\overline x$，误差为$\\sigma_x$（若$\\sigma_x$为统计误差，有$\\sigma_x^2=\\overline x$）。对于导出量$f(x)$，其误差$\\sigma_f$有：$$\\sigma_f^2=\\left(\\frac{\\partial f}{\\partial x}\\right)^2\\sigma_x^2。\\tag{1}\\label{eq1}$$\n",
    "\n",
    "- 若存在两个物理观测量$x$和$y$，其平均值和误差分别为：$\\overline x\\pm\\sigma_x$，$\\overline y\\pm\\sigma_y$，则导出量$f(x,y)$的误差$\\sigma_f$有：$$\\sigma_f^2=\\left(\\frac{\\partial f}{\\partial x}\\right)^2\\sigma_x^2+\\left(\\frac{\\partial f}{\\partial y}\\right)^2\\sigma_y^2+2\\frac{\\partial f}{\\partial x}\\frac{\\partial f}{\\partial y}\\sigma_{x,y}。\\tag{2}\\label{eq2}$$上式中$\\sigma_{x,y}$为协方差$(covariance)$：协方差为0，表示$x，y$为独立变量；协方差为$\\pm 1$，表示$x，y$线性相关。\n",
    "\n",
    "- 外推到多个变量的导出量$f(x_1,x_2,\\cdots,x_n)$，其误差$\\sigma_f$有：$$\\sigma_f^2=\\sum_{i=1}^n\\left(\\frac{\\partial f}{\\partial x_i}\\right)^2\\cdot\\sigma_{x_i}^2+\\sum_{i=1}^n\\sum_{i\\ne j}^n\\left(\\frac{\\partial f}{\\partial x_i}\\frac{\\partial f}{\\partial x_j}\\right)\\cdot cov(x_i,y_i)。\\tag{3}\\label{eq3}$$上式中，前一项表示独立变量的标准误差，后一项表示关联变量的误差附加项。\n",
    "\n",
    "- 如果$x_1,x_2,\\cdots,x_n$均为独立变量，且对应的误差分别为$\\sigma_{x1},\\sigma_{x2},\\cdots,\\sigma_{xn}$，则其误差$\\sigma_f$为：$$\\sigma_f^2=\\left(\\frac{\\partial f}{\\partial x_1}\\right)^2\\sigma_{x_1}^2+\\left(\\frac{\\partial f}{\\partial x_2}\\right)^2\\sigma_{x_2}^2+\\cdots+\\left(\\frac{\\partial f}{\\partial x_n}\\right)^2\\sigma_{x_n}^2。\\tag{4}\\label{eq4}$$\n",
    "\n",
    "- 对于同一物理量进行$N$次独立测量，其平均误差$\\sigma_{\\overline x}$要小于单次测量的误差$\\sigma_x$：$$\\sigma_{\\overline x}=\\frac{\\sigma_x}{\\sqrt N}。\\tag{5}\\label{eq5}$$"
   ]
  },
  {
   "cell_type": "markdown",
   "metadata": {},
   "source": [
    "## 飞行时间法测中子能量的相对误差"
   ]
  },
  {
   "cell_type": "markdown",
   "metadata": {},
   "source": [
    "- 由飞行时间法测中子能量的公式为：$$E_n=\\frac{1}{2}m_n\\left(\\frac{L}{ToF}\\right)^2。\\tag{6}\\label{eq6}$$上式中，$m_n$为中子质量，$L$为中子飞行的距离，$ToF$为中子飞行距离$L$所用的时间，可见三个变量均为独立变量，其误差可由公式4计算得到。\n",
    "\n",
    "- 假设中子质量$m_n$的误差为$\\sigma_{m_n}$，飞行距离$L$的误差为$\\sigma_L$，飞行时间$ToF$的误差为$\\sigma_{ToF}$，则中子能量$E_n$的误差$\\sigma_{E_n}$为：$$\\sigma_{E_n}^2=\\left(\\frac{\\partial E_n}{\\partial m_n}\\right)^2\\cdot\\sigma_{m_n}^2+\\left(\\frac{\\partial E_n}{\\partial L}\\right)^2\\cdot\\sigma_{L}^2+\\left(\\frac{\\partial E_n}{\\partial ToF}\\right)^2\\cdot\\sigma_{ToF}^2。\\tag{7}\\label{7}$$\n",
    "\n",
    "- $E_n$分别对$m_n$，$L$，$ToF$求偏导有：\n",
    "$$\\frac{\\partial E_n}{\\partial m_n}=\\frac{1}{2}\\left(\\frac{L}{ToF}\\right)^2，$$\n",
    "$$\\frac{\\partial E_n}{\\partial L}=m_n\\frac{L}{ToF^2},$$\n",
    "$$\\frac{\\partial E_n}{\\partial ToF}=-m_n\\frac{L^2}{ToF^3}。$$\n",
    "\n",
    "- 相对误差$R(E_n)=\\frac{\\delta E_n}{E_n}$，其中$\\delta E_n=\\sigma_{E_n}$，有：$$R(E_n)=\\sqrt{\\frac{1}{{m_n}^2}\\sigma_{m_n}^2+\\frac{4}{L^2}\\sigma_L^2+\\frac{4}{ToF^2}\\sigma_{ToF}^2}。$$"
   ]
  },
  {
   "cell_type": "code",
   "execution_count": 1,
   "metadata": {},
   "outputs": [
    {
     "name": "stdout",
     "output_type": "stream",
     "text": [
      "[NbConvertApp] Converting notebook errorofEcalculatedbyToF.ipynb to html\n",
      "\n",
      "\n",
      "[NbConvertApp] Writing 578466 bytes to errorofEcalculatedbyToF.html\n",
      "\n",
      "\n"
     ]
    }
   ],
   "source": [
    "!jupyter nbconvert errorofEcalculatedbyToF.ipynb --to html"
   ]
  }
 ],
 "metadata": {
  "kernelspec": {
   "display_name": "ROOT C++",
   "language": "c++",
   "name": "root"
  },
  "language_info": {
   "codemirror_mode": "text/x-c++src",
   "file_extension": ".C",
   "mimetype": " text/x-c++src",
   "name": "c++"
  }
 },
 "nbformat": 4,
 "nbformat_minor": 4
}
